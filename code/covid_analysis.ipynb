{
 "cells": [
  {
   "cell_type": "markdown",
   "metadata": {},
   "source": [
    "## <u>Goal</u>\n",
    "### Perform explorative analysis and evaluation of predicted extractive summaries against abstracts from research papers related to coronaviruses. Rouge score is used to understand how closely the predicted summaries align with the abstracts."
   ]
  },
  {
   "cell_type": "code",
   "execution_count": 1,
   "metadata": {},
   "outputs": [],
   "source": [
    "import glob\n",
    "import json\n",
    "import spacy\n",
    "import pandas as pd\n",
    "import random\n",
    "from rouge import Rouge\n",
    "from summa import summarizer\n",
    "from sklearn.model_selection import train_test_split\n",
    "#from spacy_langdetect import LanguageDetector\n",
    "import matplotlib.pyplot as plt\n",
    "import numpy as np"
   ]
  },
  {
   "cell_type": "markdown",
   "metadata": {},
   "source": [
    "## Data loading and cleaning\n",
    "   1. Load papers into a dataframe.\n",
    "   2. Filter papers without an abstract or body text.\n",
    "   3. Filter non-english papers."
   ]
  },
  {
   "cell_type": "code",
   "execution_count": 2,
   "metadata": {},
   "outputs": [],
   "source": [
    "path = '/home/ubuntu/data/*.json'\n",
    "files = glob.glob(path)\n",
    "papers = []\n",
    "for file in files:\n",
    "    with open(file) as json_file:\n",
    "            text = json.load(json_file)\n",
    "            papers.append([text['paper_id'], text['bodytext'], text['abstract']])\n",
    "data = pd.DataFrame(papers, columns = ['paper_id', 'bodytext', 'abstract'])\n",
    "filter = (data.abstract != \"\") & (data.bodytext != \"\")\n",
    "data = data[filter]\n",
    "\n",
    "data['len_bt'] = data.bodytext.map(lambda x: len(x.split(\" \")))\n",
    "data['len_ab'] = data.abstract.map(lambda x: len(x.split(\" \")))\n",
    "\n",
    "\n",
    "data.query('len_bt>=10 and len_ab >=10', inplace = True)\n",
    "\n",
    "#identify languages of texts to filter out non-english papers\n",
    "data['bt_lang'] = data.bodytext.map(lambda x: detect(x))\n",
    "data['ab_lang'] = data.abstract.map(lambda x: detect(x))\n",
    "\n",
    "#use only english papers\n",
    "data = data[(data['bt_lang'] == 'en') & (data['ab_lang'] == 'en')]\n",
    "\n",
    "x = data.drop('abstract', axis = 1)\n",
    "y = data.abstract\n"
   ]
  },
  {
   "cell_type": "markdown",
   "metadata": {},
   "source": [
    "#### Dataset size after cleaning and filtering  = 8755 "
   ]
  },
  {
   "cell_type": "code",
   "execution_count": 3,
   "metadata": {},
   "outputs": [
    {
     "data": {
      "text/plain": [
       "(8755, 3)"
      ]
     },
     "execution_count": 3,
     "metadata": {},
     "output_type": "execute_result"
    }
   ],
   "source": [
    "data.shape"
   ]
  },
  {
   "cell_type": "markdown",
   "metadata": {},
   "source": [
    "#### Splitting dataset into 80% training set and 20% test set"
   ]
  },
  {
   "cell_type": "code",
   "execution_count": 4,
   "metadata": {},
   "outputs": [],
   "source": [
    "X_train, Y_train, X_test, Y_test = train_test_split(x, y, test_size = 0.2, random_state= 10)"
   ]
  },
  {
   "cell_type": "raw",
   "metadata": {},
   "source": [
    "data[\"length_abstract\"] = data.abstract.apply(lambda x: str(x).count(\" \"))\n",
    "data[\"length_bodytext\"] = data.bodytext.apply(lambda x: str(x).count(\" \"))"
   ]
  },
  {
   "cell_type": "markdown",
   "metadata": {},
   "source": [
    "#### Apply TextRank algorithm to generate extractive summaries on the most important sentences from body text of a paper. The length of the predicted summaries is limited to the length of the abstracts"
   ]
  },
  {
   "cell_type": "code",
   "execution_count": 12,
   "metadata": {},
   "outputs": [
    {
     "data": {
      "text/html": [
       "<div>\n",
       "<style scoped>\n",
       "    .dataframe tbody tr th:only-of-type {\n",
       "        vertical-align: middle;\n",
       "    }\n",
       "\n",
       "    .dataframe tbody tr th {\n",
       "        vertical-align: top;\n",
       "    }\n",
       "\n",
       "    .dataframe thead th {\n",
       "        text-align: right;\n",
       "    }\n",
       "</style>\n",
       "<table border=\"1\" class=\"dataframe\">\n",
       "  <thead>\n",
       "    <tr style=\"text-align: right;\">\n",
       "      <th></th>\n",
       "      <th>paper_id</th>\n",
       "      <th>bodytext</th>\n",
       "      <th>abstract</th>\n",
       "      <th>length_abstract</th>\n",
       "      <th>length_bodytext</th>\n",
       "      <th>textrank_summary_abstractlength</th>\n",
       "    </tr>\n",
       "  </thead>\n",
       "  <tbody>\n",
       "    <tr>\n",
       "      <th>3</th>\n",
       "      <td>5da136317f5b97ed8371d5121d8828f1c9a5372d</td>\n",
       "      <td>Malaria is a mosquito-borne infectious parasi...</td>\n",
       "      <td>Background: Congenital malaria, in which infa...</td>\n",
       "      <td>330</td>\n",
       "      <td>3087</td>\n",
       "      <td>Cases of congenital malaria reported in Englis...</td>\n",
       "    </tr>\n",
       "    <tr>\n",
       "      <th>4</th>\n",
       "      <td>8befdc2bb43130a5e90c11061e8bc8955718a825</td>\n",
       "      <td>In 2003, the world was struck by the epidemic...</td>\n",
       "      <td>Background: Following the SARS outbreak, the ...</td>\n",
       "      <td>338</td>\n",
       "      <td>4864</td>\n",
       "      <td>A health communication capacity building proje...</td>\n",
       "    </tr>\n",
       "  </tbody>\n",
       "</table>\n",
       "</div>"
      ],
      "text/plain": [
       "                                   paper_id  \\\n",
       "3  5da136317f5b97ed8371d5121d8828f1c9a5372d   \n",
       "4  8befdc2bb43130a5e90c11061e8bc8955718a825   \n",
       "\n",
       "                                            bodytext  \\\n",
       "3   Malaria is a mosquito-borne infectious parasi...   \n",
       "4   In 2003, the world was struck by the epidemic...   \n",
       "\n",
       "                                            abstract  length_abstract  \\\n",
       "3   Background: Congenital malaria, in which infa...              330   \n",
       "4   Background: Following the SARS outbreak, the ...              338   \n",
       "\n",
       "   length_bodytext                    textrank_summary_abstractlength  \n",
       "3             3087  Cases of congenital malaria reported in Englis...  \n",
       "4             4864  A health communication capacity building proje...  "
      ]
     },
     "execution_count": 12,
     "metadata": {},
     "output_type": "execute_result"
    }
   ],
   "source": [
    "#%%timeit\n",
    "data[\"textrank_summary\"]=data.apply(lambda x: summarizer.summarize(str(x.bodytext), words = x.length_ab), axis = 1)\n",
    "data[:2]"
   ]
  },
  {
   "cell_type": "markdown",
   "metadata": {},
   "source": [
    "### Calculate and plot Rouge scores for predicted summaries and abstracts\n",
    "\n",
    "### <u>Observations</u>\n",
    "#### Looking at the plots, the mean F-score for Rouge 1/2/L lies within the range of 0.1 - 0.4 with Rouge 1 performing better than the other which suggests there are more 1-gram matches between predicted summaries and abstracts than 2-grams and LCS. \n",
    "#### There are papers with really high Rouge scores and low rouge scores.\n",
    "#### Papers with high rouge scores >0.80 have same text as the bodytext. Hence, the high scores. \n",
    "#### Abstracts that have word length less than 100 may need to be removed from corpus as the word length seems too less to have good quality text in it."
   ]
  },
  {
   "cell_type": "code",
   "execution_count": 13,
   "metadata": {},
   "outputs": [],
   "source": [
    "def cal_rougescore(row,metric, measure):\n",
    "    if row.textrank_summary == \"\":\n",
    "        return 0\n",
    "    else:\n",
    "        return evaluator.get_scores(str(row.textrank_summary), str(row.abstract))[0][metric][measure]"
   ]
  },
  {
   "cell_type": "code",
   "execution_count": 14,
   "metadata": {},
   "outputs": [],
   "source": [
    "evaluator = Rouge()\n",
    "#,data[\"rouge_2\"],data[\"rouge-l\"]  \n",
    "data[\"rouge_1_f\"]= data.apply(lambda x: cal_rougescore(x, 'rouge-1', 'f'), axis = 1)\n",
    "data[\"rouge_2_f\"]= data.apply(lambda x: cal_rougescore(x, 'rouge-2', 'f'), axis = 1)\n",
    "data[\"rouge_l_f\"]= data.apply(lambda x: cal_rougescore(x, 'rouge-l', 'f'), axis = 1)\n",
    "\n",
    "data[\"rouge_1_p\"]= data.apply(lambda x: cal_rougescore(x, 'rouge-1', 'p'), axis = 1)\n",
    "data[\"rouge_2_p\"]= data.apply(lambda x: cal_rougescore(x, 'rouge-2', 'p'), axis = 1)\n",
    "data[\"rouge_l_p\"]= data.apply(lambda x: cal_rougescore(x, 'rouge-l', 'p'), axis = 1)\n",
    "\n",
    "data[\"rouge_1_r\"]= data.apply(lambda x: cal_rougescore(x, 'rouge-1', 'r'), axis = 1)\n",
    "data[\"rouge_2_r\"]= data.apply(lambda x: cal_rougescore(x, 'rouge-2', 'r'), axis = 1)\n",
    "data[\"rouge_l_r\"]= data.apply(lambda x: cal_rougescore(x, 'rouge-l', 'r'), axis = 1)"
   ]
  },
  {
   "cell_type": "code",
   "execution_count": null,
   "metadata": {},
   "outputs": [],
   "source": [
    "plt.figure(figsize = (12,12))\n",
    "plt.subplot(3, 3, 1)\n",
    "plt.scatter(data.length_abstract, data.rouge_1_f)\n",
    "#plt.line(data.length_abstract, np.mean(data.rouge_1_f), linestyle = '--')\n",
    "plt.title('rouge:F-score')\n",
    "plt.ylabel('rouge-score')\n",
    "\n",
    "#plt.xlabel('abstract length')\n",
    "\n",
    "plt.subplot(3, 3, 2)\n",
    "plt.scatter(data.length_abstract, data.rouge_1_r)\n",
    "plt.title('rouge:Recall')\n",
    "#plt.ylabel('rouge-score')\n",
    "#plt.xlabel('abstract length')\n",
    "\n",
    "plt.subplot(3, 3, 3)\n",
    "plt.scatter(data.length_abstract, data.rouge_1_p)\n",
    "plt.title('rouge:Precision')\n",
    "#plt.ylabel('rouge-score')\n",
    "#plt.xlabel('abstract length')\n",
    "\n",
    "plt.subplot(3, 3, 4)\n",
    "plt.scatter(data.length_abstract, data.rouge_2_f)\n",
    "#plt.title('rouge-2:F-score')\n",
    "plt.ylabel('rouge-1-score')\n",
    "#plt.xlabel('abstract length')\n",
    "\n",
    "plt.subplot(3, 3, 5)\n",
    "plt.scatter(data.length_abstract, data.rouge_2_r)\n",
    "#plt.title('rouge-2:F-score')\n",
    "plt.ylabel('rouge-2-score')\n",
    "#plt.xlabel('abstract length')\n",
    "\n",
    "plt.subplot(3, 3, 6)\n",
    "plt.scatter(data.length_abstract, data.rouge_2_p)\n",
    "#plt.title('rouge-3:F-score')\n",
    "plt.ylabel('rouge-3-score')\n",
    "#plt.xlabel('abstract length')\n",
    "\n",
    "plt.subplot(3, 3, 7)\n",
    "plt.scatter(data.length_abstract, data.rouge_l_f)\n",
    "#plt.title('rouge-l:F-score')\n",
    "plt.ylabel('rouge-score')\n",
    "plt.xlabel('abstract length')\n",
    "\n",
    "plt.subplot(3, 3, 8)\n",
    "plt.scatter(data.length_abstract, data.rouge_l_r)\n",
    "#plt.title('rouge-l:F-score')\n",
    "#plt.ylabel('rouge-score')\n",
    "plt.xlabel('abstract length')\n",
    "\n",
    "plt.subplot(3, 3, 9)\n",
    "plt.scatter(data.length_abstract, data.rouge_l_p)\n",
    "#plt.title('rouge-l:F-score')\n",
    "#plt.ylabel('rouge-score')\n",
    "plt.xlabel('abstract length')\n"
   ]
  },
  {
   "cell_type": "markdown",
   "metadata": {},
   "source": [
    "#### About 25% of papers have text length less than 175 words. These could be ignored as the word length is too low to contain good information."
   ]
  },
  {
   "cell_type": "code",
   "execution_count": 20,
   "metadata": {},
   "outputs": [
    {
     "data": {
      "text/plain": [
       "count    8755.000000\n",
       "mean      258.492290\n",
       "std       177.496159\n",
       "min         1.000000\n",
       "25%       175.000000\n",
       "50%       229.000000\n",
       "75%       295.000000\n",
       "max      3705.000000\n",
       "Name: length_abstract, dtype: float64"
      ]
     },
     "execution_count": 20,
     "metadata": {},
     "output_type": "execute_result"
    }
   ],
   "source": [
    "data.length_abstract.describe()"
   ]
  },
  {
   "cell_type": "markdown",
   "metadata": {},
   "source": [
    "#### Clean the dataset by removing abstracts with text length < 50"
   ]
  },
  {
   "cell_type": "code",
   "execution_count": 18,
   "metadata": {},
   "outputs": [
    {
     "data": {
      "text/plain": [
       "(8500, 15)"
      ]
     },
     "execution_count": 18,
     "metadata": {},
     "output_type": "execute_result"
    }
   ],
   "source": [
    "clean_data = data[data.length_abstract > 100]\n",
    "clean_data.shape"
   ]
  },
  {
   "cell_type": "markdown",
   "metadata": {},
   "source": [
    "#### Explore Rouge scores with the cleaned dataset"
   ]
  },
  {
   "cell_type": "code",
   "execution_count": 19,
   "metadata": {},
   "outputs": [
    {
     "data": {
      "text/plain": [
       "Text(0.5, 0, 'abstract length')"
      ]
     },
     "execution_count": 19,
     "metadata": {},
     "output_type": "execute_result"
    },
    {
     "data": {
      "image/png": "[encoded data removed]",
      "text/plain": [
       "<Figure size 864x864 with 9 Axes>"
      ]
     },
     "metadata": {
      "needs_background": "light"
     },
     "output_type": "display_data"
    }
   ],
   "source": [
    "plt.figure(figsize = (12,12))\n",
    "plt.subplot(3, 3, 1)\n",
    "plt.scatter(clean_data.length_abstract, clean_data.rouge_1_f)\n",
    "#plt.line(clean_data.length_abstract, np.mean(clean_data.rouge_1_f), linestyle = '--')\n",
    "plt.title('rouge-1:F-score')\n",
    "plt.ylabel('rouge-score')\n",
    "\n",
    "#plt.xlabel('abstract length')\n",
    "\n",
    "plt.subplot(3, 3, 2)\n",
    "plt.scatter(clean_data.length_abstract, clean_data.rouge_1_r)\n",
    "plt.title('rouge-1:Recall')\n",
    "#plt.ylabel('rouge-score')\n",
    "#plt.xlabel('abstract length')\n",
    "\n",
    "plt.subplot(3, 3, 3)\n",
    "plt.scatter(clean_data.length_abstract, clean_data.rouge_1_p)\n",
    "plt.title('rouge-1:Precision')\n",
    "#plt.ylabel('rouge-score')\n",
    "#plt.xlabel('abstract length')\n",
    "\n",
    "plt.subplot(3, 3, 4)\n",
    "plt.scatter(clean_data.length_abstract, clean_data.rouge_2_f)\n",
    "#plt.title('rouge-2:F-score')\n",
    "plt.ylabel('rouge-score')\n",
    "#plt.xlabel('abstract length')\n",
    "\n",
    "plt.subplot(3, 3, 5)\n",
    "plt.scatter(clean_data.length_abstract, clean_data.rouge_2_r)\n",
    "#plt.title('rouge-2:F-score')\n",
    "#plt.ylabel('rouge-score')\n",
    "#plt.xlabel('abstract length')\n",
    "\n",
    "plt.subplot(3, 3, 6)\n",
    "plt.scatter(clean_data.length_abstract, clean_data.rouge_2_p)\n",
    "#plt.title('rouge-3:F-score')\n",
    "#plt.ylabel('rouge-score')\n",
    "#plt.xlabel('abstract length')\n",
    "\n",
    "plt.subplot(3, 3, 7)\n",
    "plt.scatter(clean_data.length_abstract, clean_data.rouge_l_f)\n",
    "#plt.title('rouge-l:F-score')\n",
    "plt.ylabel('rouge-score')\n",
    "plt.xlabel('abstract length')\n",
    "\n",
    "plt.subplot(3, 3, 8)\n",
    "plt.scatter(clean_data.length_abstract, clean_data.rouge_l_r)\n",
    "#plt.title('rouge-l:F-score')\n",
    "#plt.ylabel('rouge-score')\n",
    "plt.xlabel('abstract length')\n",
    "\n",
    "plt.subplot(3, 3, 9)\n",
    "plt.scatter(clean_data.length_abstract, clean_data.rouge_l_p)\n",
    "#plt.title('rouge-l:F-score')\n",
    "#plt.ylabel('rouge-score')\n",
    "plt.xlabel('abstract length')"
   ]
  },
  {
   "cell_type": "code",
   "execution_count": 22,
   "metadata": {},
   "outputs": [
    {
     "data": {
      "text/plain": [
       "count    8755.000000\n",
       "mean        0.371355\n",
       "std         0.100203\n",
       "min         0.000000\n",
       "25%         0.318132\n",
       "50%         0.380952\n",
       "75%         0.434603\n",
       "max         0.997227\n",
       "Name: rouge_1_f, dtype: float64"
      ]
     },
     "execution_count": 22,
     "metadata": {},
     "output_type": "execute_result"
    }
   ],
   "source": [
    "data.rouge_1_f.describe()"
   ]
  }
 ],
 "metadata": {
  "kernelspec": {
   "display_name": "Python 3",
   "language": "python",
   "name": "python3"
  },
  "language_info": {
   "codemirror_mode": {
    "name": "ipython",
    "version": 3
   },
   "file_extension": ".py",
   "mimetype": "text/x-python",
   "name": "python",
   "nbconvert_exporter": "python",
   "pygments_lexer": "ipython3",
   "version": "3.8.3"
  }
 },
 "nbformat": 4,
 "nbformat_minor": 4
}
