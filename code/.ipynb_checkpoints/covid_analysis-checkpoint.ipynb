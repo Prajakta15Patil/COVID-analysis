{
 "cells": [
  {
   "cell_type": "code",
   "execution_count": 266,
   "metadata": {},
   "outputs": [],
   "source": [
    "import glob\n",
    "import json\n",
    "import spacy\n",
    "import pandas as pd\n",
    "import random\n",
    "#from langdetect import detect    #not detecting language correctly\n",
    "from rouge import Rouge\n",
    "from summa import summarizer\n",
    "from sklearn.model_selection import train_test_split\n",
    "from spacy_langdetect import LanguageDetector\n",
    "import matplotlib.pyplot as plt\n",
    "import numpy as np"
   ]
  },
  {
   "cell_type": "code",
   "execution_count": 197,
   "metadata": {},
   "outputs": [],
   "source": [
    "path = '/home/prajakta/Documents/SharpestMinds/COVID-analysis/data/*.json'\n",
    "files = glob.glob(path)\n",
    "papers = []\n",
    "for file in files:\n",
    "    with open(file) as json_file:\n",
    "            text = json.load(json_file)\n",
    "            papers.append([text['paper_id'], text['bodytext'], text['abstract']])\n",
    "data = pd.DataFrame(papers, columns = ['paper_id', 'bodytext', 'abstract'])\n",
    "filter = data.abstract != \"\"\n",
    "data = data[filter]\n",
    "#data = data[(data.paper_id != \"a6f478369adbfd8be967251a9bb0dd17fa436c45\")]\n",
    "x = data.drop('abstract', axis = 1)\n",
    "y = data.abstract\n"
   ]
  },
  {
   "cell_type": "code",
   "execution_count": 220,
   "metadata": {},
   "outputs": [
    {
     "data": {
      "text/plain": [
       "(8755, 18)"
      ]
     },
     "execution_count": 220,
     "metadata": {},
     "output_type": "execute_result"
    }
   ],
   "source": [
    "data.shape"
   ]
  },
  {
   "cell_type": "markdown",
   "metadata": {
    "jupyter": {
     "source_hidden": true
    }
   },
   "source": [
    "Language not detected correctly using Spacy LanguageDetector."
   ]
  },
  {
   "cell_type": "code",
   "execution_count": 182,
   "metadata": {
    "collapsed": true,
    "jupyter": {
     "outputs_hidden": true,
     "source_hidden": true
    }
   },
   "outputs": [
    {
     "name": "stdout",
     "output_type": "stream",
     "text": [
      "57\n",
      "en\n"
     ]
    }
   ],
   "source": [
    "nlp = spacy.load('en')\n",
    "nlp.add_pipe(LanguageDetector(), name='language_detector', last=True)\n",
    "language = []\n",
    "score = []\n",
    "for i in range(len(data.index)):\n",
    "    if data.iloc[i].paper_id == \"a6f478369adbfd8be967251a9bb0dd17fa436c45\":\n",
    "        print(i)\n",
    "        nlp_abstract = str(data.iloc[i].abstract)\n",
    "        language.append(nlp(nlp_abstract)._.language['language'])\n",
    "        score.append(nlp(nlp_abstract)._.language['score'])\n",
    "        print(nlp(str(data.iloc[57].abstract))._.language['language'])\n",
    "\n",
    "#language, score\n",
    "#data[\"language\"] = pd.Series(language)\n",
    "#data['language'] = data.nlp_abstract.map(lambda x: x._.language['language'])"
   ]
  },
  {
   "cell_type": "code",
   "execution_count": 185,
   "metadata": {
    "collapsed": true,
    "jupyter": {
     "outputs_hidden": true,
     "source_hidden": true
    }
   },
   "outputs": [
    {
     "name": "stdout",
     "output_type": "stream",
     "text": [
      "{'language': 'vi', 'score': 0.7142816108221657}\n"
     ]
    }
   ],
   "source": [
    "text = str(data[data.paper_id == \"a6f478369adbfd8be967251a9bb0dd17fa436c45\"].abstract)\n",
    "doc = nlp(text)\n",
    "print(doc._.language)"
   ]
  },
  {
   "cell_type": "code",
   "execution_count": 191,
   "metadata": {},
   "outputs": [
    {
     "data": {
      "text/plain": [
       "paper_id    8755\n",
       "bodytext    8755\n",
       "abstract    8755\n",
       "dtype: int64"
      ]
     },
     "execution_count": 191,
     "metadata": {},
     "output_type": "execute_result"
    }
   ],
   "source": [
    "pd.notnull(data).sum(axis = 0)"
   ]
  },
  {
   "cell_type": "code",
   "execution_count": 195,
   "metadata": {},
   "outputs": [
    {
     "data": {
      "text/plain": [
       "False    8755\n",
       "Name: abstract, dtype: int64"
      ]
     },
     "execution_count": 195,
     "metadata": {},
     "output_type": "execute_result"
    }
   ],
   "source": [
    "(data.abstract == \"\").value_counts()"
   ]
  },
  {
   "cell_type": "code",
   "execution_count": 196,
   "metadata": {},
   "outputs": [
    {
     "data": {
      "text/plain": [
       "False    8755\n",
       "Name: bodytext, dtype: int64"
      ]
     },
     "execution_count": 196,
     "metadata": {},
     "output_type": "execute_result"
    }
   ],
   "source": [
    "(data.bodytext == \"\").value_counts()"
   ]
  },
  {
   "cell_type": "code",
   "execution_count": 193,
   "metadata": {},
   "outputs": [],
   "source": [
    "X_train, Y_train, X_test, Y_test = train_test_split(x, y, test_size = 0.2, random_state= 10)"
   ]
  },
  {
   "cell_type": "code",
   "execution_count": 14,
   "metadata": {},
   "outputs": [
    {
     "data": {
      "text/plain": [
       "count                                                   159\n",
       "unique                                                  159\n",
       "top        Background: Human coronaviruses (HCoVs) are a...\n",
       "freq                                                      1\n",
       "Name: abstract, dtype: object"
      ]
     },
     "execution_count": 14,
     "metadata": {},
     "output_type": "execute_result"
    }
   ],
   "source": [
    "X_test.describe()"
   ]
  },
  {
   "cell_type": "code",
   "execution_count": 15,
   "metadata": {},
   "outputs": [
    {
     "data": {
      "text/plain": [
       "count                                                    40\n",
       "unique                                                   40\n",
       "top        Background: Non-pharmaceutical strategies are...\n",
       "freq                                                      1\n",
       "Name: abstract, dtype: object"
      ]
     },
     "execution_count": 15,
     "metadata": {},
     "output_type": "execute_result"
    }
   ],
   "source": [
    "Y_test.describe()"
   ]
  },
  {
   "cell_type": "code",
   "execution_count": 16,
   "metadata": {},
   "outputs": [
    {
     "data": {
      "text/plain": [
       "str"
      ]
     },
     "execution_count": 16,
     "metadata": {},
     "output_type": "execute_result"
    }
   ],
   "source": [
    "nlp = spacy.load(\"en_core_web_sm\")\n",
    "doc = nlp(data.bodytext[5])\n",
    "abstract = data.abstract[5]\n",
    "sentences = list(doc.sents)\n",
    "sentence = random.choice(sentences)  \n",
    "type(str(sentence))"
   ]
  },
  {
   "cell_type": "code",
   "execution_count": 17,
   "metadata": {},
   "outputs": [
    {
     "data": {
      "text/plain": [
       "[{'rouge-1': {'f': 0.0909090891507843,\n",
       "   'p': 0.4666666666666667,\n",
       "   'r': 0.050359712230215826},\n",
       "  'rouge-2': {'f': 0.00653594599662568,\n",
       "   'p': 0.034482758620689655,\n",
       "   'r': 0.0036101083032490976},\n",
       "  'rouge-l': {'f': 0.1304347799533318,\n",
       "   'p': 0.41379310344827586,\n",
       "   'r': 0.07741935483870968}}]"
      ]
     },
     "execution_count": 17,
     "metadata": {},
     "output_type": "execute_result"
    }
   ],
   "source": [
    "evaluator = Rouge()\n",
    "scores = evaluator.get_scores(str(sentence), abstract)\n",
    "scores"
   ]
  },
  {
   "cell_type": "code",
   "execution_count": 198,
   "metadata": {},
   "outputs": [],
   "source": [
    "data[\"length_abstract\"] = data.abstract.apply(lambda x: str(x).count(\" \"))\n",
    "data[\"length_bodytext\"] = data.bodytext.apply(lambda x: str(x).count(\" \"))"
   ]
  },
  {
   "cell_type": "code",
   "execution_count": 201,
   "metadata": {},
   "outputs": [
    {
     "data": {
      "text/html": [
       "<div>\n",
       "<style scoped>\n",
       "    .dataframe tbody tr th:only-of-type {\n",
       "        vertical-align: middle;\n",
       "    }\n",
       "\n",
       "    .dataframe tbody tr th {\n",
       "        vertical-align: top;\n",
       "    }\n",
       "\n",
       "    .dataframe thead th {\n",
       "        text-align: right;\n",
       "    }\n",
       "</style>\n",
       "<table border=\"1\" class=\"dataframe\">\n",
       "  <thead>\n",
       "    <tr style=\"text-align: right;\">\n",
       "      <th></th>\n",
       "      <th>paper_id</th>\n",
       "      <th>bodytext</th>\n",
       "      <th>abstract</th>\n",
       "      <th>length_abstract</th>\n",
       "      <th>length_bodytext</th>\n",
       "      <th>textrank_summary_abstractlength</th>\n",
       "    </tr>\n",
       "  </thead>\n",
       "  <tbody>\n",
       "    <tr>\n",
       "      <th>0</th>\n",
       "      <td>17413f651645c2b9c92555e9ce1404b9290eccab</td>\n",
       "      <td>a1111111111 a1111111111 a1111111111 a11111111...</td>\n",
       "      <td>The cellular serine protease TMPRSS2, a membe...</td>\n",
       "      <td>266</td>\n",
       "      <td>3543</td>\n",
       "      <td>Moreover, we demonstrate that spread of FLUAV ...</td>\n",
       "    </tr>\n",
       "    <tr>\n",
       "      <th>3</th>\n",
       "      <td>ab8c1e32b66b02cd703799df3d2ee37a1cb369b7</td>\n",
       "      <td>Middle East respiratory syndrome coronavirus ...</td>\n",
       "      <td>The persistent public health threat of infect...</td>\n",
       "      <td>223</td>\n",
       "      <td>4249</td>\n",
       "      <td>The current study determined the effects of a ...</td>\n",
       "    </tr>\n",
       "    <tr>\n",
       "      <th>4</th>\n",
       "      <td>685efeb0ad4c214b8295dc4f723c3269464772d8</td>\n",
       "      <td>Bats have been increasingly associated with e...</td>\n",
       "      <td>We report on the isolation of a novel fusogen...</td>\n",
       "      <td>154</td>\n",
       "      <td>4514</td>\n",
       "      <td>Maximum Likelihood trees were prepared using a...</td>\n",
       "    </tr>\n",
       "    <tr>\n",
       "      <th>5</th>\n",
       "      <td>09ccb3b9fece55e72c3acb85c4259de62a9c9e0c</td>\n",
       "      <td>Bovine respiratory disease (BRD) incorporates...</td>\n",
       "      <td>Background: The aim of this study was to dete...</td>\n",
       "      <td>274</td>\n",
       "      <td>4392</td>\n",
       "      <td>The objective of this study was to ascertain t...</td>\n",
       "    </tr>\n",
       "    <tr>\n",
       "      <th>7</th>\n",
       "      <td>93d080273b1f33330243dd140a35ba890ddd2973</td>\n",
       "      <td>Nurses leaving their jobs or leaving the prof...</td>\n",
       "      <td>Background: Nurses leaving their jobs and the...</td>\n",
       "      <td>297</td>\n",
       "      <td>7159</td>\n",
       "      <td>Exclusion criteria were as follows: Reports fr...</td>\n",
       "    </tr>\n",
       "  </tbody>\n",
       "</table>\n",
       "</div>"
      ],
      "text/plain": [
       "                                   paper_id  \\\n",
       "0  17413f651645c2b9c92555e9ce1404b9290eccab   \n",
       "3  ab8c1e32b66b02cd703799df3d2ee37a1cb369b7   \n",
       "4  685efeb0ad4c214b8295dc4f723c3269464772d8   \n",
       "5  09ccb3b9fece55e72c3acb85c4259de62a9c9e0c   \n",
       "7  93d080273b1f33330243dd140a35ba890ddd2973   \n",
       "\n",
       "                                            bodytext  \\\n",
       "0   a1111111111 a1111111111 a1111111111 a11111111...   \n",
       "3   Middle East respiratory syndrome coronavirus ...   \n",
       "4   Bats have been increasingly associated with e...   \n",
       "5   Bovine respiratory disease (BRD) incorporates...   \n",
       "7   Nurses leaving their jobs or leaving the prof...   \n",
       "\n",
       "                                            abstract  length_abstract  \\\n",
       "0   The cellular serine protease TMPRSS2, a membe...              266   \n",
       "3   The persistent public health threat of infect...              223   \n",
       "4   We report on the isolation of a novel fusogen...              154   \n",
       "5   Background: The aim of this study was to dete...              274   \n",
       "7   Background: Nurses leaving their jobs and the...              297   \n",
       "\n",
       "   length_bodytext                    textrank_summary_abstractlength  \n",
       "0             3543  Moreover, we demonstrate that spread of FLUAV ...  \n",
       "3             4249  The current study determined the effects of a ...  \n",
       "4             4514  Maximum Likelihood trees were prepared using a...  \n",
       "5             4392  The objective of this study was to ascertain t...  \n",
       "7             7159  Exclusion criteria were as follows: Reports fr...  "
      ]
     },
     "execution_count": 201,
     "metadata": {},
     "output_type": "execute_result"
    }
   ],
   "source": [
    "#%%timeit\n",
    "data[\"textrank_summary_abstractlength\"]=data.apply(lambda x: summarizer.summarize(str(x.bodytext), words = x.length_abstract), axis = 1)\n",
    "data.head()"
   ]
  },
  {
   "cell_type": "code",
   "execution_count": 212,
   "metadata": {},
   "outputs": [],
   "source": [
    "def cal_rougescore(row,metric, measure):\n",
    "    if row.textrank_summary_abstractlength == \"\":\n",
    "        return 0\n",
    "    else:\n",
    "        return evaluator.get_scores(str(row.textrank_summary_abstractlength), str(row.abstract))[0][metric][measure]"
   ]
  },
  {
   "cell_type": "code",
   "execution_count": 216,
   "metadata": {},
   "outputs": [],
   "source": [
    "evaluator = Rouge()\n",
    "#,data[\"rouge_2\"],data[\"rouge-l\"]  \n",
    "data[\"rouge_1_f\"]= data.apply(lambda x: cal_rougescore(x, 'rouge-1', 'f'), axis = 1)\n",
    "data[\"rouge_2_f\"]= data.apply(lambda x: cal_rougescore(x, 'rouge-2', 'f'), axis = 1)\n",
    "data[\"rouge_l_f\"]= data.apply(lambda x: cal_rougescore(x, 'rouge-l', 'f'), axis = 1)"
   ]
  },
  {
   "cell_type": "code",
   "execution_count": 217,
   "metadata": {},
   "outputs": [],
   "source": [
    "evaluator = Rouge()\n",
    "#,data[\"rouge_2\"],data[\"rouge-l\"]  \n",
    "data[\"rouge_1_p\"]= data.apply(lambda x: cal_rougescore(x, 'rouge-1', 'p'), axis = 1)\n",
    "data[\"rouge_2_p\"]= data.apply(lambda x: cal_rougescore(x, 'rouge-2', 'p'), axis = 1)\n",
    "data[\"rouge_l_p\"]= data.apply(lambda x: cal_rougescore(x, 'rouge-l', 'p'), axis = 1)"
   ]
  },
  {
   "cell_type": "code",
   "execution_count": 218,
   "metadata": {},
   "outputs": [],
   "source": [
    "evaluator = Rouge()\n",
    "#,data[\"rouge_2\"],data[\"rouge-l\"]  \n",
    "data[\"rouge_1_r\"]= data.apply(lambda x: cal_rougescore(x, 'rouge-1', 'r'), axis = 1)\n",
    "data[\"rouge_2_r\"]= data.apply(lambda x: cal_rougescore(x, 'rouge-2', 'r'), axis = 1)\n",
    "data[\"rouge_l_r\"]= data.apply(lambda x: cal_rougescore(x, 'rouge-l', 'r'), axis = 1)"
   ]
  },
  {
   "cell_type": "code",
   "execution_count": 276,
   "metadata": {},
   "outputs": [
    {
     "data": {
      "text/plain": [
       "Text(0.5, 0, 'abstract length')"
      ]
     },
     "execution_count": 276,
     "metadata": {},
     "output_type": "execute_result"
    },
    {
     "data": {
      "image/png": "[encoded data removed]",
      "text/plain": [
       "<Figure size 864x864 with 9 Axes>"
      ]
     },
     "metadata": {
      "needs_background": "light"
     },
     "output_type": "display_data"
    }
   ],
   "source": [
    "plt.figure(figsize = (12,12))\n",
    "plt.subplot(3, 3, 1)\n",
    "plt.scatter(data.length_abstract, data.rouge_1_f)\n",
    "#plt.line(data.length_abstract, np.mean(data.rouge_1_f), linestyle = '--')\n",
    "plt.title('rouge-1:F-score')\n",
    "plt.ylabel('rouge-score')\n",
    "\n",
    "#plt.xlabel('abstract length')\n",
    "\n",
    "plt.subplot(3, 3, 2)\n",
    "plt.scatter(data.length_abstract, data.rouge_1_r)\n",
    "plt.title('rouge-1:Recall')\n",
    "#plt.ylabel('rouge-score')\n",
    "#plt.xlabel('abstract length')\n",
    "\n",
    "plt.subplot(3, 3, 3)\n",
    "plt.scatter(data.length_abstract, data.rouge_1_p)\n",
    "plt.title('rouge-1:Precision')\n",
    "#plt.ylabel('rouge-score')\n",
    "#plt.xlabel('abstract length')\n",
    "\n",
    "plt.subplot(3, 3, 4)\n",
    "plt.scatter(data.length_abstract, data.rouge_2_f)\n",
    "#plt.title('rouge-2:F-score')\n",
    "plt.ylabel('rouge-score')\n",
    "#plt.xlabel('abstract length')\n",
    "\n",
    "plt.subplot(3, 3, 5)\n",
    "plt.scatter(data.length_abstract, data.rouge_2_r)\n",
    "#plt.title('rouge-2:F-score')\n",
    "#plt.ylabel('rouge-score')\n",
    "#plt.xlabel('abstract length')\n",
    "\n",
    "plt.subplot(3, 3, 6)\n",
    "plt.scatter(data.length_abstract, data.rouge_2_p)\n",
    "#plt.title('rouge-3:F-score')\n",
    "#plt.ylabel('rouge-score')\n",
    "#plt.xlabel('abstract length')\n",
    "\n",
    "plt.subplot(3, 3, 7)\n",
    "plt.scatter(data.length_abstract, data.rouge_l_f)\n",
    "#plt.title('rouge-l:F-score')\n",
    "plt.ylabel('rouge-score')\n",
    "plt.xlabel('abstract length')\n",
    "\n",
    "plt.subplot(3, 3, 8)\n",
    "plt.scatter(data.length_abstract, data.rouge_l_r)\n",
    "#plt.title('rouge-l:F-score')\n",
    "#plt.ylabel('rouge-score')\n",
    "plt.xlabel('abstract length')\n",
    "\n",
    "plt.subplot(3, 3, 9)\n",
    "plt.scatter(data.length_abstract, data.rouge_l_p)\n",
    "#plt.title('rouge-l:F-score')\n",
    "#plt.ylabel('rouge-score')\n",
    "plt.xlabel('abstract length')\n"
   ]
  },
  {
   "cell_type": "code",
   "execution_count": 313,
   "metadata": {},
   "outputs": [
    {
     "data": {
      "text/plain": [
       "(8500, 18)"
      ]
     },
     "execution_count": 313,
     "metadata": {},
     "output_type": "execute_result"
    }
   ],
   "source": [
    "clean_data = data[data.length_abstract > 50]\n",
    "clean_data.shape"
   ]
  },
  {
   "cell_type": "code",
   "execution_count": 314,
   "metadata": {},
   "outputs": [
    {
     "data": {
      "text/plain": [
       "Text(0.5, 0, 'abstract length')"
      ]
     },
     "execution_count": 314,
     "metadata": {},
     "output_type": "execute_result"
    },
    {
     "data": {
      "image/png": "[encoded data removed]",
      "text/plain": [
       "<Figure size 864x864 with 9 Axes>"
      ]
     },
     "metadata": {
      "needs_background": "light"
     },
     "output_type": "display_data"
    }
   ],
   "source": [
    "plt.figure(figsize = (12,12))\n",
    "plt.subplot(3, 3, 1)\n",
    "plt.scatter(clean_data.length_abstract, clean_data.rouge_1_f)\n",
    "#plt.line(clean_data.length_abstract, np.mean(clean_data.rouge_1_f), linestyle = '--')\n",
    "plt.title('rouge-1:F-score')\n",
    "plt.ylabel('rouge-score')\n",
    "\n",
    "#plt.xlabel('abstract length')\n",
    "\n",
    "plt.subplot(3, 3, 2)\n",
    "plt.scatter(clean_data.length_abstract, clean_data.rouge_1_r)\n",
    "plt.title('rouge-1:Recall')\n",
    "#plt.ylabel('rouge-score')\n",
    "#plt.xlabel('abstract length')\n",
    "\n",
    "plt.subplot(3, 3, 3)\n",
    "plt.scatter(clean_data.length_abstract, clean_data.rouge_1_p)\n",
    "plt.title('rouge-1:Precision')\n",
    "#plt.ylabel('rouge-score')\n",
    "#plt.xlabel('abstract length')\n",
    "\n",
    "plt.subplot(3, 3, 4)\n",
    "plt.scatter(clean_data.length_abstract, clean_data.rouge_2_f)\n",
    "#plt.title('rouge-2:F-score')\n",
    "plt.ylabel('rouge-score')\n",
    "#plt.xlabel('abstract length')\n",
    "\n",
    "plt.subplot(3, 3, 5)\n",
    "plt.scatter(clean_data.length_abstract, clean_data.rouge_2_r)\n",
    "#plt.title('rouge-2:F-score')\n",
    "#plt.ylabel('rouge-score')\n",
    "#plt.xlabel('abstract length')\n",
    "\n",
    "plt.subplot(3, 3, 6)\n",
    "plt.scatter(clean_data.length_abstract, clean_data.rouge_2_p)\n",
    "#plt.title('rouge-3:F-score')\n",
    "#plt.ylabel('rouge-score')\n",
    "#plt.xlabel('abstract length')\n",
    "\n",
    "plt.subplot(3, 3, 7)\n",
    "plt.scatter(clean_data.length_abstract, clean_data.rouge_l_f)\n",
    "#plt.title('rouge-l:F-score')\n",
    "plt.ylabel('rouge-score')\n",
    "plt.xlabel('abstract length')\n",
    "\n",
    "plt.subplot(3, 3, 8)\n",
    "plt.scatter(clean_data.length_abstract, clean_data.rouge_l_r)\n",
    "#plt.title('rouge-l:F-score')\n",
    "#plt.ylabel('rouge-score')\n",
    "plt.xlabel('abstract length')\n",
    "\n",
    "plt.subplot(3, 3, 9)\n",
    "plt.scatter(clean_data.length_abstract, clean_data.rouge_l_p)\n",
    "#plt.title('rouge-l:F-score')\n",
    "#plt.ylabel('rouge-score')\n",
    "plt.xlabel('abstract length')"
   ]
  },
  {
   "cell_type": "code",
   "execution_count": 306,
   "metadata": {},
   "outputs": [
    {
     "data": {
      "text/plain": [
       "count    8755.000000\n",
       "mean      258.492290\n",
       "std       177.496159\n",
       "min         1.000000\n",
       "25%       175.000000\n",
       "50%       229.000000\n",
       "75%       295.000000\n",
       "max      3705.000000\n",
       "Name: length_abstract, dtype: float64"
      ]
     },
     "execution_count": 306,
     "metadata": {},
     "output_type": "execute_result"
    }
   ],
   "source": [
    "data.length_abstract.describe()"
   ]
  },
  {
   "cell_type": "code",
   "execution_count": 312,
   "metadata": {},
   "outputs": [
    {
     "data": {
      "text/plain": [
       "22.0"
      ]
     },
     "execution_count": 312,
     "metadata": {},
     "output_type": "execute_result"
    }
   ],
   "source": [
    "data.length_abstract.quantile(0.01)"
   ]
  },
  {
   "cell_type": "code",
   "execution_count": 319,
   "metadata": {},
   "outputs": [
    {
     "data": {
      "text/plain": [
       "count    8755.000000\n",
       "mean        0.371355\n",
       "std         0.100203\n",
       "min         0.000000\n",
       "25%         0.318132\n",
       "50%         0.380952\n",
       "75%         0.434603\n",
       "max         0.997227\n",
       "Name: rouge_1_f, dtype: float64"
      ]
     },
     "execution_count": 319,
     "metadata": {},
     "output_type": "execute_result"
    }
   ],
   "source": [
    "data.rouge_1_f.describe()"
   ]
  }
 ],
 "metadata": {
  "kernelspec": {
   "display_name": "Python 3",
   "language": "python",
   "name": "python3"
  },
  "language_info": {
   "codemirror_mode": {
    "name": "ipython",
    "version": 3
   },
   "file_extension": ".py",
   "mimetype": "text/x-python",
   "name": "python",
   "nbconvert_exporter": "python",
   "pygments_lexer": "ipython3",
   "version": "3.8.3"
  }
 },
 "nbformat": 4,
 "nbformat_minor": 4
}
